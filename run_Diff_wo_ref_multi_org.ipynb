{
 "cells": [
  {
   "cell_type": "code",
   "execution_count": 1,
   "metadata": {
    "colab": {
     "base_uri": "https://localhost:8080/"
    },
    "executionInfo": {
     "elapsed": 28881,
     "status": "ok",
     "timestamp": 1666122413113,
     "user": {
      "displayName": "Van Koh",
      "userId": "15908915889656003541"
     },
     "user_tz": -480
    },
    "id": "C3VXRzTvtuO-",
    "outputId": "8a582d77-aa7f-4b90-e9d9-cb267ecb08fc",
    "tags": []
   },
   "outputs": [
    {
     "name": "stdout",
     "output_type": "stream",
     "text": [
      "Args in experiment:\n",
      "Namespace(model='Diff_TS', data='ETTh1', root_path='/home/uservan/Desktop/TS_Diff/datasets', data_path='ETTh1.csv', features='M', target='OT', freq='h', checkpoints='model_parameters/ETTh1', seq_len=168, label_len=168, pred_len=24, enc_in=7, dec_in=7, c_out=7, d_model=256, d_ff=256, padding=0, distil=False, dropout=0.05, embed='timeF', activation='gelu', output_attention=False, do_predict=True, mix=True, cols=None, num_workers=8, itr=1, train_epochs=20, batch_size=32, patience=3, learning_rate=0.0001, des='test', loss='mse', lradj='type1', use_amp=False, inverse=False, likeloss=True, use_gpu=True, gpu=0, use_multi_gpu=False, devices='0,1,2,3', lossregularizer=True, n_times=50, sampling=False, sampling_times=50, detail_freq='h')\n"
     ]
    }
   ],
   "source": [
    "import argparse\n",
    "import os\n",
    "import torch\n",
    "import numpy as np\n",
    "import random\n",
    "import pandas as pd\n",
    "\n",
    "\n",
    "from exp.exp_NRU_RBN import Exp_NRU_RBN\n",
    "%matplotlib inline\n",
    "\n",
    "parser = argparse.ArgumentParser(description='Diff_TS Forecasting')\n",
    "\n",
    "parser.add_argument('--model', type=str, default='Diff_TS',help='model of experiment, options: [NRU_RBN]')\n",
    "value=\"ETTh1\" #ETTh1,ETTm2,electrans,weather,exchange\n",
    "parser.add_argument('--data', type=str, default=value, help='data')\n",
    "parser.add_argument('--root_path', type=str, default=os.path.abspath('../')+'/datasets', help='root path of the data file')\n",
    "parser.add_argument('--data_path', type=str, default=value+'.csv', help='data file')    #electrans.csv\n",
    "parser.add_argument('--features', type=str, default='M', help='forecasting task, options:[M, S, MS]; M:multivariate predict multivariate, S:univariate predict univariate, MS:multivariate predict univariate')\n",
    "parser.add_argument('--target', type=str, default='OT', help='target feature in S or MS task')\n",
    "parser.add_argument('--freq', type=str, default='h', help='freq for time features encoding, options:[s:secondly, t:minutely, h:hourly, d:daily, b:business days, w:weekly, m:monthly], you can also use more detailed freq like 15min or 3h')\n",
    "parser.add_argument('--checkpoints', type=str, default= 'model_parameters/'+value, help='location of model checkpoints')\n",
    "\n",
    "parser.add_argument('--seq_len', type=int, default=int(24*7), help='input sequence length of Informer encoder')\n",
    "parser.add_argument('--label_len', type=int, default=int(24*7) , help='start token length of Informer decoder')\n",
    "parser.add_argument('--pred_len', type=int, default=24, help='prediction sequence length')\n",
    "\n",
    "parser.add_argument('--enc_in', type=int, default=1, help='encoder input size')\n",
    "parser.add_argument('--dec_in', type=int, default=1, help='decoder input size')\n",
    "parser.add_argument('--c_out', type=int, default=1, help='output size')\n",
    "parser.add_argument('--d_model', type=int, default=256, help='dimension of model')\n",
    "parser.add_argument('--d_ff', type=int, default=256, help='dimension of fcn')\n",
    "parser.add_argument('--padding', type=int, default=0, help='padding type')\n",
    "parser.add_argument('--distil', action='store_false', help='whether to use distilling in encoder, using this argument means not using distilling', default=False)\n",
    "parser.add_argument('--dropout', type=float, default=0.05, help='dropout')\n",
    "parser.add_argument('--embed', type=str, default='timeF', help='time features encoding, options:[timeF, fixed, learned]')\n",
    "parser.add_argument('--activation', type=str, default='gelu',help='activation')\n",
    "parser.add_argument('--output_attention', action='store_true', help='whether to output attention in ecoder',default=False)\n",
    "parser.add_argument('--do_predict', action='store_false', help='whether to predict unseen future data')\n",
    "parser.add_argument('--mix', action='store_false', help='use mix attention in generative decoder', default=True)\n",
    "parser.add_argument('--cols', type=str, nargs='+', help='certain cols from the data files as the input features')\n",
    "parser.add_argument('--num_workers', type=int, default=8, help='data loader num workers')\n",
    "parser.add_argument('--itr', type=int, default=1, help='experiments times')\n",
    "parser.add_argument('--train_epochs', type=int, default=20, help='train epochs')\n",
    "parser.add_argument('--batch_size', type=int, default=32, help='batch size of train input data')\n",
    "parser.add_argument('--patience', type=int, default=3, help='early stopping patience')\n",
    "parser.add_argument('--learning_rate', type=float, default=0.0001, help='optimizer learning rate')\n",
    "parser.add_argument('--des', type=str, default='test',help='exp description')\n",
    "parser.add_argument('--loss', type=str, default='mse',help='loss function')\n",
    "parser.add_argument('--lradj', type=str, default='type1',help='adjust learning rate')\n",
    "parser.add_argument('--use_amp', action='store_true', help='use automatic mixed precision training', default=False)\n",
    "parser.add_argument('--inverse', action='store_true', help='inverse output data', default=False)\n",
    "parser.add_argument('--likeloss', action='store_true', help='likeloss', default=True)\n",
    "parser.add_argument('--use_gpu', type=bool, default=True, help='use gpu')\n",
    "parser.add_argument('--gpu', type=int, default=0, help='gpu')\n",
    "parser.add_argument('--use_multi_gpu', action='store_true', help='use multiple gpus', default=False)\n",
    "parser.add_argument('--devices', type=str, default='0,1,2,3',help='device ids of multile gpus')\n",
    "parser.add_argument('--lossregularizer', type=bool, default=True, help='Use loss regularizer')\n",
    "parser.add_argument('--n_times', type=int, default=50, help='diffusion steps')\n",
    "parser.add_argument('--sampling', type=bool, default=False, help='sampling of outcomes')\n",
    "parser.add_argument('--sampling_times', type=int, default=50, help='number of outcomes')\n",
    "\n",
    "args = parser.parse_args(\"\")\n",
    "args.use_gpu = True if torch.cuda.is_available() and args.use_gpu else False\n",
    "\n",
    "if args.use_gpu and args.use_multi_gpu:\n",
    "    args.devices = args.devices.replace(' ','')\n",
    "    device_ids = args.devices.split(',')\n",
    "    args.device_ids = [int(id_) for id_ in device_ids]\n",
    "    args.gpu = args.device_ids[0]\n",
    "\n",
    "data_parser = {\n",
    "    'exchange':{'data':'exchange_all.csv','T':'OT','M':[7,7,7],'S':[1,1,1],'MS':[7,7,1],'freqin':'d'},\n",
    "    'ETTh1':{'data':'ETTh1.csv','T':'OT','M':[7,7,7],'S':[1,1,1],'MS':[7,7,1],'freqin':'h'},\n",
    "    'ETTh2':{'data':'ETTh2.csv','T':'OT','M':[7,7,7],'S':[1,1,1],'MS':[7,7,1],'freqin':'h'},\n",
    "    'ETTm1':{'data':'ETTm1.csv','T':'OT','M':[7,7,7],'S':[1,1,1],'MS':[7,7,1],'freqin':'h'},\n",
    "    'ETTm2':{'data':'ETTm2.csv','T':'OT','M':[7,7,7],'S':[1,1,1],'MS':[7,7,1],'freqin':'t'},\n",
    "    'weather':{'data':'weather.csv','T':'OT','M':[12,12,12],'S':[1,1,1],'MS':[12,12,1],'freqin':'h'},\n",
    "    'electrans':{'data':'electrans.csv','T':'OT','M':[316,316,316],'S':[1,1,1],'MS':[316,316,1],'freqin':'h'},\n",
    "}\n",
    "if args.data in data_parser.keys():\n",
    "    data_info = data_parser[args.data]\n",
    "    args.data_path = data_info['data']\n",
    "    args.target = data_info['T']\n",
    "    args.enc_in, args.dec_in, args.c_out = data_info[args.features]\n",
    "    args.freq=data_info['freqin']\n",
    "\n",
    "args.detail_freq = args.freq\n",
    "args.freq = args.freq[-1:]\n",
    "print('Args in experiment:')\n",
    "print(args)\n",
    "torch.cuda.empty_cache()\n"
   ]
  },
  {
   "cell_type": "code",
   "execution_count": null,
   "metadata": {},
   "outputs": [
    {
     "name": "stdout",
     "output_type": "stream",
     "text": [
      "Args in experiment:\n",
      "Namespace(model='Diff_TS', data='electrans', root_path='/home/uservan/Desktop/TS_Diff/datasets', data_path='electrans.csv', features='M', target='OT', freq='h', checkpoints='model_parameters/electrans', seq_len=168, label_len=168, pred_len=24, enc_in=32, dec_in=32, c_out=32, d_model=256, d_ff=256, padding=0, distil=False, dropout=0.05, embed='timeF', activation='gelu', output_attention=False, do_predict=True, mix=True, cols=None, num_workers=8, itr=1, train_epochs=20, batch_size=32, patience=3, learning_rate=0.0001, des='test', loss='mse', lradj='type1', use_amp=False, inverse=False, likeloss=True, use_gpu=True, gpu=0, use_multi_gpu=False, devices='0,1,2,3', lossregularizer=True, n_times=50, sampling=False, sampling_times=50, detail_freq='h')\n",
      "168\n",
      "24\n",
      "168\n",
      "24\n",
      "Use GPU: cuda:0\n",
      "Trainable Parameters:3883097\n",
      "Trainable Parameters:298016\n",
      ">>>>>>>start training later Diff_TS_168_24_delectrans_ftM_sl168_ll168_pl24_dm256_df256_ebtimeF_0_lossreg_True_n_times_100_ii_0.1>>>>>>>>>>>>>>>>>>>>>>>>>>\n",
      "train 18221\n",
      "val 2441\n",
      "No File, Train new\n",
      "No EST File, Train new\n"
     ]
    },
    {
     "data": {
      "application/vnd.jupyter.widget-view+json": {
       "model_id": "02005aa38bf344998edcadc37de5bd5d",
       "version_major": 2,
       "version_minor": 0
      },
      "text/plain": [
       "  0%|          | 0/570 [00:00<?, ?it/s]"
      ]
     },
     "metadata": {},
     "output_type": "display_data"
    },
    {
     "name": "stdout",
     "output_type": "stream",
     "text": [
      "\titers: 570, epoch: 1 | loss: 0.0161677\n",
      "\tspeed: 0.1714s/iter; left time: 1856.5739s\n",
      "Epoch: 1 cost time: 97.70495104789734\n"
     ]
    },
    {
     "data": {
      "application/vnd.jupyter.widget-view+json": {
       "model_id": "d2902bf1a2d94e6381d9707a95f56ac8",
       "version_major": 2,
       "version_minor": 0
      },
      "text/plain": [
       "  0%|          | 0/77 [00:00<?, ?it/s]"
      ]
     },
     "metadata": {},
     "output_type": "display_data"
    },
    {
     "name": "stdout",
     "output_type": "stream",
     "text": [
      "Validation loss decreased (inf --> 0.088704).  Saving model ...\n"
     ]
    },
    {
     "data": {
      "application/vnd.jupyter.widget-view+json": {
       "model_id": "ad5592eee0db4400897ab46a73d237ad",
       "version_major": 2,
       "version_minor": 0
      },
      "text/plain": [
       "  0%|          | 0/570 [00:00<?, ?it/s]"
      ]
     },
     "metadata": {},
     "output_type": "display_data"
    },
    {
     "name": "stdout",
     "output_type": "stream",
     "text": [
      "\titers: 570, epoch: 2 | loss: 0.0445402\n",
      "\tspeed: 0.1809s/iter; left time: 1856.2147s\n",
      "Epoch: 2 cost time: 97.40581917762756\n"
     ]
    },
    {
     "data": {
      "application/vnd.jupyter.widget-view+json": {
       "model_id": "e33e738052114746b3241fe1959462a0",
       "version_major": 2,
       "version_minor": 0
      },
      "text/plain": [
       "  0%|          | 0/77 [00:00<?, ?it/s]"
      ]
     },
     "metadata": {},
     "output_type": "display_data"
    },
    {
     "name": "stdout",
     "output_type": "stream",
     "text": [
      "Validation loss decreased (0.088704 --> 0.078169).  Saving model ...\n"
     ]
    },
    {
     "data": {
      "application/vnd.jupyter.widget-view+json": {
       "model_id": "c1aa0e7266b0484db7240453cde55c69",
       "version_major": 2,
       "version_minor": 0
      },
      "text/plain": [
       "  0%|          | 0/570 [00:00<?, ?it/s]"
      ]
     },
     "metadata": {},
     "output_type": "display_data"
    },
    {
     "name": "stdout",
     "output_type": "stream",
     "text": [
      "\titers: 570, epoch: 3 | loss: 0.0963202\n",
      "\tspeed: 0.1802s/iter; left time: 1746.4685s\n",
      "Epoch: 3 cost time: 96.73273706436157\n"
     ]
    },
    {
     "data": {
      "application/vnd.jupyter.widget-view+json": {
       "model_id": "dc3ce2fef1aa45679ff811cae9a2cb8d",
       "version_major": 2,
       "version_minor": 0
      },
      "text/plain": [
       "  0%|          | 0/77 [00:00<?, ?it/s]"
      ]
     },
     "metadata": {},
     "output_type": "display_data"
    },
    {
     "name": "stdout",
     "output_type": "stream",
     "text": [
      "EarlyStopping counter: 1 out of 3\n"
     ]
    },
    {
     "data": {
      "application/vnd.jupyter.widget-view+json": {
       "model_id": "df6f1d92f8b240c89d00cb0d7ecb517c",
       "version_major": 2,
       "version_minor": 0
      },
      "text/plain": [
       "  0%|          | 0/570 [00:00<?, ?it/s]"
      ]
     },
     "metadata": {},
     "output_type": "display_data"
    },
    {
     "name": "stdout",
     "output_type": "stream",
     "text": [
      "\titers: 570, epoch: 4 | loss: 0.0991982\n",
      "\tspeed: 0.1793s/iter; left time: 1635.5723s\n",
      "Epoch: 4 cost time: 96.33396983146667\n"
     ]
    },
    {
     "data": {
      "application/vnd.jupyter.widget-view+json": {
       "model_id": "4e1d3bade2f84424bf4f9259e7525206",
       "version_major": 2,
       "version_minor": 0
      },
      "text/plain": [
       "  0%|          | 0/77 [00:00<?, ?it/s]"
      ]
     },
     "metadata": {},
     "output_type": "display_data"
    },
    {
     "name": "stdout",
     "output_type": "stream",
     "text": [
      "Validation loss decreased (0.078169 --> 0.072793).  Saving model ...\n"
     ]
    },
    {
     "data": {
      "application/vnd.jupyter.widget-view+json": {
       "model_id": "2f33241b60a2428788cf08352f236597",
       "version_major": 2,
       "version_minor": 0
      },
      "text/plain": [
       "  0%|          | 0/570 [00:00<?, ?it/s]"
      ]
     },
     "metadata": {},
     "output_type": "display_data"
    },
    {
     "name": "stdout",
     "output_type": "stream",
     "text": [
      "\titers: 570, epoch: 5 | loss: 0.0094508\n",
      "\tspeed: 0.1806s/iter; left time: 1544.6698s\n",
      "Epoch: 5 cost time: 96.96922254562378\n"
     ]
    },
    {
     "data": {
      "application/vnd.jupyter.widget-view+json": {
       "model_id": "f9f396b4160f4916a063ee06f42e2e73",
       "version_major": 2,
       "version_minor": 0
      },
      "text/plain": [
       "  0%|          | 0/77 [00:00<?, ?it/s]"
      ]
     },
     "metadata": {},
     "output_type": "display_data"
    },
    {
     "name": "stdout",
     "output_type": "stream",
     "text": [
      "EarlyStopping counter: 1 out of 3\n"
     ]
    },
    {
     "data": {
      "application/vnd.jupyter.widget-view+json": {
       "model_id": "586f0574b714417fa8321bc319da0210",
       "version_major": 2,
       "version_minor": 0
      },
      "text/plain": [
       "  0%|          | 0/570 [00:00<?, ?it/s]"
      ]
     },
     "metadata": {},
     "output_type": "display_data"
    },
    {
     "name": "stdout",
     "output_type": "stream",
     "text": [
      "\titers: 570, epoch: 6 | loss: 0.0481611\n",
      "\tspeed: 0.1813s/iter; left time: 1446.5628s\n",
      "Epoch: 6 cost time: 96.99964475631714\n"
     ]
    },
    {
     "data": {
      "application/vnd.jupyter.widget-view+json": {
       "model_id": "b1a2bd4e01b44090bf16505ed7357b40",
       "version_major": 2,
       "version_minor": 0
      },
      "text/plain": [
       "  0%|          | 0/77 [00:00<?, ?it/s]"
      ]
     },
     "metadata": {},
     "output_type": "display_data"
    },
    {
     "name": "stdout",
     "output_type": "stream",
     "text": [
      "Validation loss decreased (0.072793 --> 0.066640).  Saving model ...\n"
     ]
    },
    {
     "data": {
      "application/vnd.jupyter.widget-view+json": {
       "model_id": "1a238d8355a74b4e8759ed4e4e37413e",
       "version_major": 2,
       "version_minor": 0
      },
      "text/plain": [
       "  0%|          | 0/570 [00:00<?, ?it/s]"
      ]
     },
     "metadata": {},
     "output_type": "display_data"
    },
    {
     "name": "stdout",
     "output_type": "stream",
     "text": [
      "\titers: 570, epoch: 7 | loss: 0.0463134\n",
      "\tspeed: 0.1813s/iter; left time: 1343.6456s\n",
      "Epoch: 7 cost time: 97.40452837944031\n"
     ]
    },
    {
     "data": {
      "application/vnd.jupyter.widget-view+json": {
       "model_id": "6b16c728bea54f82878e5d92d30eb252",
       "version_major": 2,
       "version_minor": 0
      },
      "text/plain": [
       "  0%|          | 0/77 [00:00<?, ?it/s]"
      ]
     },
     "metadata": {},
     "output_type": "display_data"
    },
    {
     "name": "stdout",
     "output_type": "stream",
     "text": [
      "Validation loss decreased (0.066640 --> 0.061873).  Saving model ...\n"
     ]
    },
    {
     "data": {
      "application/vnd.jupyter.widget-view+json": {
       "model_id": "da1d41ea68814baaa356ea15b8373dca",
       "version_major": 2,
       "version_minor": 0
      },
      "text/plain": [
       "  0%|          | 0/570 [00:00<?, ?it/s]"
      ]
     },
     "metadata": {},
     "output_type": "display_data"
    },
    {
     "name": "stdout",
     "output_type": "stream",
     "text": [
      "\titers: 570, epoch: 8 | loss: 0.0225727\n",
      "\tspeed: 0.1820s/iter; left time: 1244.7771s\n",
      "Epoch: 8 cost time: 97.77141523361206\n"
     ]
    },
    {
     "data": {
      "application/vnd.jupyter.widget-view+json": {
       "model_id": "d3d289dcf19140a1b5a4439d07cb9190",
       "version_major": 2,
       "version_minor": 0
      },
      "text/plain": [
       "  0%|          | 0/77 [00:00<?, ?it/s]"
      ]
     },
     "metadata": {},
     "output_type": "display_data"
    },
    {
     "name": "stdout",
     "output_type": "stream",
     "text": [
      "EarlyStopping counter: 1 out of 3\n"
     ]
    },
    {
     "data": {
      "application/vnd.jupyter.widget-view+json": {
       "model_id": "3a908bd8f4ca4f42a351cc87b542b4cd",
       "version_major": 2,
       "version_minor": 0
      },
      "text/plain": [
       "  0%|          | 0/570 [00:00<?, ?it/s]"
      ]
     },
     "metadata": {},
     "output_type": "display_data"
    },
    {
     "name": "stdout",
     "output_type": "stream",
     "text": [
      "\titers: 570, epoch: 9 | loss: 0.0403369\n",
      "\tspeed: 0.1818s/iter; left time: 1139.8454s\n",
      "Epoch: 9 cost time: 97.7168595790863\n"
     ]
    },
    {
     "data": {
      "application/vnd.jupyter.widget-view+json": {
       "model_id": "a7cd7c35e1264b3286f0181ef41ce223",
       "version_major": 2,
       "version_minor": 0
      },
      "text/plain": [
       "  0%|          | 0/77 [00:00<?, ?it/s]"
      ]
     },
     "metadata": {},
     "output_type": "display_data"
    },
    {
     "name": "stdout",
     "output_type": "stream",
     "text": [
      "EarlyStopping counter: 2 out of 3\n"
     ]
    },
    {
     "data": {
      "application/vnd.jupyter.widget-view+json": {
       "model_id": "b59530a64821445191739243fe511928",
       "version_major": 2,
       "version_minor": 0
      },
      "text/plain": [
       "  0%|          | 0/570 [00:00<?, ?it/s]"
      ]
     },
     "metadata": {},
     "output_type": "display_data"
    },
    {
     "name": "stdout",
     "output_type": "stream",
     "text": [
      "\titers: 570, epoch: 10 | loss: 0.0344732\n",
      "\tspeed: 0.1812s/iter; left time: 1032.7827s\n",
      "Epoch: 10 cost time: 97.32324552536011\n"
     ]
    },
    {
     "data": {
      "application/vnd.jupyter.widget-view+json": {
       "model_id": "71166f55faf947cf96a287a476f15235",
       "version_major": 2,
       "version_minor": 0
      },
      "text/plain": [
       "  0%|          | 0/77 [00:00<?, ?it/s]"
      ]
     },
     "metadata": {},
     "output_type": "display_data"
    },
    {
     "name": "stdout",
     "output_type": "stream",
     "text": [
      "EarlyStopping counter: 3 out of 3\n",
      "Validation loss decreased (inf --> nan).  Saving model ...\n"
     ]
    },
    {
     "data": {
      "application/vnd.jupyter.widget-view+json": {
       "model_id": "7eba4dd7b8ed42ca9dbfbe3a660394fd",
       "version_major": 2,
       "version_minor": 0
      },
      "text/plain": [
       "  0%|          | 0/570 [00:00<?, ?it/s]"
      ]
     },
     "metadata": {},
     "output_type": "display_data"
    },
    {
     "name": "stdout",
     "output_type": "stream",
     "text": [
      "\titers: 570, epoch: 2 | loss: 0.0396132\n",
      "\tspeed: 0.1012s/iter; left time: 1038.1740s\n",
      "Epoch: 2 cost time: 51.87010908126831\n"
     ]
    },
    {
     "data": {
      "application/vnd.jupyter.widget-view+json": {
       "model_id": "6f7db33d3a164a9ab96c4876840c97bf",
       "version_major": 2,
       "version_minor": 0
      },
      "text/plain": [
       "  0%|          | 0/77 [00:00<?, ?it/s]"
      ]
     },
     "metadata": {},
     "output_type": "display_data"
    },
    {
     "name": "stdout",
     "output_type": "stream",
     "text": [
      "Validation loss decreased (nan --> 0.536474).  Saving model ...\n"
     ]
    },
    {
     "data": {
      "application/vnd.jupyter.widget-view+json": {
       "model_id": "4305f86f871c44d181534613c6f3bc8c",
       "version_major": 2,
       "version_minor": 0
      },
      "text/plain": [
       "  0%|          | 0/570 [00:00<?, ?it/s]"
      ]
     },
     "metadata": {},
     "output_type": "display_data"
    },
    {
     "name": "stdout",
     "output_type": "stream",
     "text": [
      "\titers: 570, epoch: 3 | loss: 0.0636968\n",
      "\tspeed: 0.1046s/iter; left time: 1013.2419s\n",
      "Epoch: 3 cost time: 53.62487435340881\n"
     ]
    },
    {
     "data": {
      "application/vnd.jupyter.widget-view+json": {
       "model_id": "59a0198841ec43a9b1eabf6201b6a9d0",
       "version_major": 2,
       "version_minor": 0
      },
      "text/plain": [
       "  0%|          | 0/77 [00:00<?, ?it/s]"
      ]
     },
     "metadata": {},
     "output_type": "display_data"
    },
    {
     "name": "stdout",
     "output_type": "stream",
     "text": [
      "Validation loss decreased (0.536474 --> 0.425553).  Saving model ...\n"
     ]
    },
    {
     "data": {
      "application/vnd.jupyter.widget-view+json": {
       "model_id": "0511e39c603343f286dac550a9eee984",
       "version_major": 2,
       "version_minor": 0
      },
      "text/plain": [
       "  0%|          | 0/570 [00:00<?, ?it/s]"
      ]
     },
     "metadata": {},
     "output_type": "display_data"
    },
    {
     "name": "stdout",
     "output_type": "stream",
     "text": [
      "\titers: 570, epoch: 4 | loss: 0.0781925\n",
      "\tspeed: 0.1045s/iter; left time: 952.9296s\n",
      "Epoch: 4 cost time: 53.644551277160645\n"
     ]
    },
    {
     "data": {
      "application/vnd.jupyter.widget-view+json": {
       "model_id": "deaadedd632b45b8b82a9c7a512f39c8",
       "version_major": 2,
       "version_minor": 0
      },
      "text/plain": [
       "  0%|          | 0/77 [00:00<?, ?it/s]"
      ]
     },
     "metadata": {},
     "output_type": "display_data"
    },
    {
     "name": "stdout",
     "output_type": "stream",
     "text": [
      "Validation loss decreased (0.425553 --> 0.362462).  Saving model ...\n"
     ]
    },
    {
     "data": {
      "application/vnd.jupyter.widget-view+json": {
       "model_id": "e79fd4b0230e452e865a9f91968f68d3",
       "version_major": 2,
       "version_minor": 0
      },
      "text/plain": [
       "  0%|          | 0/570 [00:00<?, ?it/s]"
      ]
     },
     "metadata": {},
     "output_type": "display_data"
    },
    {
     "name": "stdout",
     "output_type": "stream",
     "text": [
      "\titers: 570, epoch: 5 | loss: 0.1324019\n",
      "\tspeed: 0.1051s/iter; left time: 898.4767s\n",
      "Epoch: 5 cost time: 53.84355926513672\n"
     ]
    },
    {
     "data": {
      "application/vnd.jupyter.widget-view+json": {
       "model_id": "f0dd7f573e7b4f848878df65eda4fc09",
       "version_major": 2,
       "version_minor": 0
      },
      "text/plain": [
       "  0%|          | 0/77 [00:00<?, ?it/s]"
      ]
     },
     "metadata": {},
     "output_type": "display_data"
    },
    {
     "name": "stdout",
     "output_type": "stream",
     "text": [
      "Validation loss decreased (0.362462 --> 0.303667).  Saving model ...\n"
     ]
    },
    {
     "data": {
      "application/vnd.jupyter.widget-view+json": {
       "model_id": "5b93519bbf264ad9b46a65bbb1d3e285",
       "version_major": 2,
       "version_minor": 0
      },
      "text/plain": [
       "  0%|          | 0/570 [00:00<?, ?it/s]"
      ]
     },
     "metadata": {},
     "output_type": "display_data"
    },
    {
     "name": "stdout",
     "output_type": "stream",
     "text": [
      "\titers: 570, epoch: 6 | loss: 0.0334541\n",
      "\tspeed: 0.1048s/iter; left time: 836.0128s\n",
      "Epoch: 6 cost time: 53.7275812625885\n"
     ]
    },
    {
     "data": {
      "application/vnd.jupyter.widget-view+json": {
       "model_id": "c321d5b8ee9b427c8a4832a18a6db1ed",
       "version_major": 2,
       "version_minor": 0
      },
      "text/plain": [
       "  0%|          | 0/77 [00:00<?, ?it/s]"
      ]
     },
     "metadata": {},
     "output_type": "display_data"
    },
    {
     "name": "stdout",
     "output_type": "stream",
     "text": [
      "Validation loss decreased (0.303667 --> 0.254310).  Saving model ...\n"
     ]
    },
    {
     "data": {
      "application/vnd.jupyter.widget-view+json": {
       "model_id": "1f1915223b2349a7990e565f782115e0",
       "version_major": 2,
       "version_minor": 0
      },
      "text/plain": [
       "  0%|          | 0/570 [00:00<?, ?it/s]"
      ]
     },
     "metadata": {},
     "output_type": "display_data"
    },
    {
     "name": "stdout",
     "output_type": "stream",
     "text": [
      "\titers: 570, epoch: 7 | loss: 0.0190540\n",
      "\tspeed: 0.1058s/iter; left time: 784.3730s\n",
      "Epoch: 7 cost time: 54.08335590362549\n"
     ]
    },
    {
     "data": {
      "application/vnd.jupyter.widget-view+json": {
       "model_id": "e3290547920d43fbb54849455a9432f9",
       "version_major": 2,
       "version_minor": 0
      },
      "text/plain": [
       "  0%|          | 0/77 [00:00<?, ?it/s]"
      ]
     },
     "metadata": {},
     "output_type": "display_data"
    },
    {
     "name": "stdout",
     "output_type": "stream",
     "text": [
      "EarlyStopping counter: 1 out of 3\n"
     ]
    },
    {
     "data": {
      "application/vnd.jupyter.widget-view+json": {
       "model_id": "340407848f6e44278284ea754c40a1ad",
       "version_major": 2,
       "version_minor": 0
      },
      "text/plain": [
       "  0%|          | 0/570 [00:00<?, ?it/s]"
      ]
     },
     "metadata": {},
     "output_type": "display_data"
    },
    {
     "name": "stdout",
     "output_type": "stream",
     "text": [
      "\titers: 570, epoch: 8 | loss: 0.0281278\n",
      "\tspeed: 0.1063s/iter; left time: 727.3109s\n",
      "Epoch: 8 cost time: 54.48120880126953\n"
     ]
    },
    {
     "data": {
      "application/vnd.jupyter.widget-view+json": {
       "model_id": "253876614f174036abe4410b003de69f",
       "version_major": 2,
       "version_minor": 0
      },
      "text/plain": [
       "  0%|          | 0/77 [00:00<?, ?it/s]"
      ]
     },
     "metadata": {},
     "output_type": "display_data"
    },
    {
     "name": "stdout",
     "output_type": "stream",
     "text": [
      "EarlyStopping counter: 2 out of 3\n"
     ]
    },
    {
     "data": {
      "application/vnd.jupyter.widget-view+json": {
       "model_id": "f77078762cbd47edb6ace5b9b417e591",
       "version_major": 2,
       "version_minor": 0
      },
      "text/plain": [
       "  0%|          | 0/570 [00:00<?, ?it/s]"
      ]
     },
     "metadata": {},
     "output_type": "display_data"
    },
    {
     "name": "stdout",
     "output_type": "stream",
     "text": [
      "\titers: 570, epoch: 9 | loss: 0.0214105\n",
      "\tspeed: 0.1069s/iter; left time: 670.0902s\n",
      "Epoch: 9 cost time: 54.71995830535889\n"
     ]
    },
    {
     "data": {
      "application/vnd.jupyter.widget-view+json": {
       "model_id": "078b4782670148459f9a5611b99c54a8",
       "version_major": 2,
       "version_minor": 0
      },
      "text/plain": [
       "  0%|          | 0/77 [00:00<?, ?it/s]"
      ]
     },
     "metadata": {},
     "output_type": "display_data"
    },
    {
     "name": "stdout",
     "output_type": "stream",
     "text": [
      "EarlyStopping counter: 3 out of 3\n",
      "Early stopping\n",
      "test 845\n",
      "load: Diff_TS_168_24_delectrans_ftM_sl168_ll168_pl24_dm256_df256_ebtimeF_0_lossreg_True_n_times_100_ii_0.1\n"
     ]
    },
    {
     "data": {
      "application/vnd.jupyter.widget-view+json": {
       "model_id": "896e83006b9449c49d27b8ed9731bf39",
       "version_major": 2,
       "version_minor": 0
      },
      "text/plain": [
       "  0%|          | 0/53 [00:00<?, ?it/s]"
      ]
     },
     "metadata": {},
     "output_type": "display_data"
    },
    {
     "name": "stdout",
     "output_type": "stream",
     "text": [
      "trues shape: (845, 24, 32)\n",
      "preds shape: (845, 24, 32)\n",
      "sigmaouts shape: (845, 24, 32)\n",
      "test_CRPS_mean:0.18931518 test_CRPS_var:0.0\n",
      "mae,mse,rmse,mspe,shape\n",
      "(0.26137286, 0.1354537, 0.36804035, 62044.258, (845, 24, 32))\n",
      "Diff_TS_168_24_delectrans_ftM_sl168_ll168_pl24_dm256_df256_ebtimeF_0_lossreg_True_n_times_100_ii_0.1\n",
      "predlen:24,CRPS_L:1,AVE:0.189±0.0\n",
      "predlen:24,MSE_L:1,AVE:0.135±0.0\n",
      "predlen:24,MAE_L:1,AVE:0.261±0.0\n",
      "168\n",
      "96\n",
      "168\n",
      "96\n",
      "Use GPU: cuda:0\n",
      "Trainable Parameters:3919457\n",
      "Trainable Parameters:298016\n",
      ">>>>>>>start training later Diff_TS_168_96_delectrans_ftM_sl168_ll168_pl96_dm256_df256_ebtimeF_0_lossreg_True_n_times_100_ii_0.1>>>>>>>>>>>>>>>>>>>>>>>>>>\n",
      "train 18149\n",
      "val 2369\n",
      "No File, Train new\n",
      "No EST File, Train new\n"
     ]
    },
    {
     "data": {
      "application/vnd.jupyter.widget-view+json": {
       "model_id": "0b4a8d1fb415408db1996d8a711ddbe7",
       "version_major": 2,
       "version_minor": 0
      },
      "text/plain": [
       "  0%|          | 0/568 [00:00<?, ?it/s]"
      ]
     },
     "metadata": {},
     "output_type": "display_data"
    },
    {
     "name": "stdout",
     "output_type": "stream",
     "text": [
      "\titers: 568, epoch: 1 | loss: 0.0653319\n",
      "\tspeed: 0.5671s/iter; left time: 6120.4968s\n",
      "Epoch: 1 cost time: 322.1010160446167\n"
     ]
    },
    {
     "data": {
      "application/vnd.jupyter.widget-view+json": {
       "model_id": "23ac537242764d9ba01ba637b1a16fac",
       "version_major": 2,
       "version_minor": 0
      },
      "text/plain": [
       "  0%|          | 0/75 [00:00<?, ?it/s]"
      ]
     },
     "metadata": {},
     "output_type": "display_data"
    },
    {
     "name": "stdout",
     "output_type": "stream",
     "text": [
      "Validation loss decreased (inf --> 0.086614).  Saving model ...\n"
     ]
    },
    {
     "data": {
      "application/vnd.jupyter.widget-view+json": {
       "model_id": "5dbb1d6f739643c796f82b72a463ede5",
       "version_major": 2,
       "version_minor": 0
      },
      "text/plain": [
       "  0%|          | 0/568 [00:00<?, ?it/s]"
      ]
     },
     "metadata": {},
     "output_type": "display_data"
    },
    {
     "name": "stdout",
     "output_type": "stream",
     "text": [
      "\titers: 568, epoch: 2 | loss: 0.0595364\n",
      "\tspeed: 0.6040s/iter; left time: 6175.8606s\n",
      "Epoch: 2 cost time: 325.8607060909271\n"
     ]
    },
    {
     "data": {
      "application/vnd.jupyter.widget-view+json": {
       "model_id": "9cef7db11d7146fcb3b878be3b137fbe",
       "version_major": 2,
       "version_minor": 0
      },
      "text/plain": [
       "  0%|          | 0/75 [00:00<?, ?it/s]"
      ]
     },
     "metadata": {},
     "output_type": "display_data"
    },
    {
     "name": "stdout",
     "output_type": "stream",
     "text": [
      "Validation loss decreased (0.086614 --> 0.082898).  Saving model ...\n"
     ]
    },
    {
     "data": {
      "application/vnd.jupyter.widget-view+json": {
       "model_id": "b802b69843564eaa9ab1844a59390554",
       "version_major": 2,
       "version_minor": 0
      },
      "text/plain": [
       "  0%|          | 0/568 [00:00<?, ?it/s]"
      ]
     },
     "metadata": {},
     "output_type": "display_data"
    },
    {
     "name": "stdout",
     "output_type": "stream",
     "text": [
      "\titers: 568, epoch: 3 | loss: 0.0258071\n",
      "\tspeed: 0.6041s/iter; left time: 5833.7962s\n",
      "Epoch: 3 cost time: 326.0196726322174\n"
     ]
    },
    {
     "data": {
      "application/vnd.jupyter.widget-view+json": {
       "model_id": "8b48aae0b1694e719599430329360b88",
       "version_major": 2,
       "version_minor": 0
      },
      "text/plain": [
       "  0%|          | 0/75 [00:00<?, ?it/s]"
      ]
     },
     "metadata": {},
     "output_type": "display_data"
    },
    {
     "name": "stdout",
     "output_type": "stream",
     "text": [
      "EarlyStopping counter: 1 out of 3\n"
     ]
    },
    {
     "data": {
      "application/vnd.jupyter.widget-view+json": {
       "model_id": "41a2eb468e2a47abab6423c34c0978d9",
       "version_major": 2,
       "version_minor": 0
      },
      "text/plain": [
       "  0%|          | 0/568 [00:00<?, ?it/s]"
      ]
     },
     "metadata": {},
     "output_type": "display_data"
    },
    {
     "name": "stdout",
     "output_type": "stream",
     "text": [
      "\titers: 568, epoch: 4 | loss: 0.0473248\n",
      "\tspeed: 0.6021s/iter; left time: 5472.4610s\n",
      "Epoch: 4 cost time: 324.95839953422546\n"
     ]
    },
    {
     "data": {
      "application/vnd.jupyter.widget-view+json": {
       "model_id": "43d99d0c34b84276a066f545d108f5ed",
       "version_major": 2,
       "version_minor": 0
      },
      "text/plain": [
       "  0%|          | 0/75 [00:00<?, ?it/s]"
      ]
     },
     "metadata": {},
     "output_type": "display_data"
    },
    {
     "name": "stdout",
     "output_type": "stream",
     "text": [
      "Validation loss decreased (0.082898 --> 0.071288).  Saving model ...\n"
     ]
    },
    {
     "data": {
      "application/vnd.jupyter.widget-view+json": {
       "model_id": "e7f43abbb34c4254b7fe8844ca1d6e47",
       "version_major": 2,
       "version_minor": 0
      },
      "text/plain": [
       "  0%|          | 0/568 [00:00<?, ?it/s]"
      ]
     },
     "metadata": {},
     "output_type": "display_data"
    },
    {
     "name": "stdout",
     "output_type": "stream",
     "text": [
      "\titers: 568, epoch: 5 | loss: 0.0848145\n",
      "\tspeed: 0.6018s/iter; left time: 5128.2260s\n",
      "Epoch: 5 cost time: 324.9809947013855\n"
     ]
    },
    {
     "data": {
      "application/vnd.jupyter.widget-view+json": {
       "model_id": "f2d1547095e049d195426b6d0f0ffd27",
       "version_major": 2,
       "version_minor": 0
      },
      "text/plain": [
       "  0%|          | 0/75 [00:00<?, ?it/s]"
      ]
     },
     "metadata": {},
     "output_type": "display_data"
    },
    {
     "name": "stdout",
     "output_type": "stream",
     "text": [
      "Validation loss decreased (0.071288 --> 0.069570).  Saving model ...\n"
     ]
    },
    {
     "data": {
      "application/vnd.jupyter.widget-view+json": {
       "model_id": "521fc3f3013b4cdd83031f1349fbeb32",
       "version_major": 2,
       "version_minor": 0
      },
      "text/plain": [
       "  0%|          | 0/568 [00:00<?, ?it/s]"
      ]
     },
     "metadata": {},
     "output_type": "display_data"
    },
    {
     "name": "stdout",
     "output_type": "stream",
     "text": [
      "\titers: 568, epoch: 6 | loss: 0.1040129\n",
      "\tspeed: 0.5921s/iter; left time: 4709.2011s\n",
      "Epoch: 6 cost time: 319.31937551498413\n"
     ]
    },
    {
     "data": {
      "application/vnd.jupyter.widget-view+json": {
       "model_id": "0ef70e497e4c4150bd6f9d208d77eeaf",
       "version_major": 2,
       "version_minor": 0
      },
      "text/plain": [
       "  0%|          | 0/75 [00:00<?, ?it/s]"
      ]
     },
     "metadata": {},
     "output_type": "display_data"
    },
    {
     "name": "stdout",
     "output_type": "stream",
     "text": [
      "Validation loss decreased (0.069570 --> 0.065430).  Saving model ...\n"
     ]
    },
    {
     "data": {
      "application/vnd.jupyter.widget-view+json": {
       "model_id": "cb341993009341b3a6b8adb287fe460b",
       "version_major": 2,
       "version_minor": 0
      },
      "text/plain": [
       "  0%|          | 0/568 [00:00<?, ?it/s]"
      ]
     },
     "metadata": {},
     "output_type": "display_data"
    },
    {
     "name": "stdout",
     "output_type": "stream",
     "text": [
      "\titers: 568, epoch: 7 | loss: 0.1208111\n",
      "\tspeed: 0.5896s/iter; left time: 4354.0034s\n",
      "Epoch: 7 cost time: 318.1015031337738\n"
     ]
    },
    {
     "data": {
      "application/vnd.jupyter.widget-view+json": {
       "model_id": "66038621401c420d91ae4aea192f6783",
       "version_major": 2,
       "version_minor": 0
      },
      "text/plain": [
       "  0%|          | 0/75 [00:00<?, ?it/s]"
      ]
     },
     "metadata": {},
     "output_type": "display_data"
    },
    {
     "name": "stdout",
     "output_type": "stream",
     "text": [
      "EarlyStopping counter: 1 out of 3\n"
     ]
    },
    {
     "data": {
      "application/vnd.jupyter.widget-view+json": {
       "model_id": "b6ceaae086dd44c9948d5c31382c7e35",
       "version_major": 2,
       "version_minor": 0
      },
      "text/plain": [
       "  0%|          | 0/568 [00:00<?, ?it/s]"
      ]
     },
     "metadata": {},
     "output_type": "display_data"
    },
    {
     "name": "stdout",
     "output_type": "stream",
     "text": [
      "\titers: 568, epoch: 8 | loss: 0.0530763\n",
      "\tspeed: 0.5907s/iter; left time: 4026.7877s\n",
      "Epoch: 8 cost time: 318.759051322937\n"
     ]
    },
    {
     "data": {
      "application/vnd.jupyter.widget-view+json": {
       "model_id": "70e2dde694b846189adb0b70957f872e",
       "version_major": 2,
       "version_minor": 0
      },
      "text/plain": [
       "  0%|          | 0/75 [00:00<?, ?it/s]"
      ]
     },
     "metadata": {},
     "output_type": "display_data"
    },
    {
     "name": "stdout",
     "output_type": "stream",
     "text": [
      "EarlyStopping counter: 2 out of 3\n"
     ]
    },
    {
     "data": {
      "application/vnd.jupyter.widget-view+json": {
       "model_id": "e2e5125c84504b38a8a55e8a8af49f47",
       "version_major": 2,
       "version_minor": 0
      },
      "text/plain": [
       "  0%|          | 0/568 [00:00<?, ?it/s]"
      ]
     },
     "metadata": {},
     "output_type": "display_data"
    },
    {
     "name": "stdout",
     "output_type": "stream",
     "text": [
      "\titers: 568, epoch: 9 | loss: 0.0966798\n",
      "\tspeed: 0.5879s/iter; left time: 3673.5870s\n",
      "Epoch: 9 cost time: 317.20811700820923\n"
     ]
    },
    {
     "data": {
      "application/vnd.jupyter.widget-view+json": {
       "model_id": "8178917f1d694a40920a7ac0b83deb8c",
       "version_major": 2,
       "version_minor": 0
      },
      "text/plain": [
       "  0%|          | 0/75 [00:00<?, ?it/s]"
      ]
     },
     "metadata": {},
     "output_type": "display_data"
    },
    {
     "name": "stdout",
     "output_type": "stream",
     "text": [
      "EarlyStopping counter: 3 out of 3\n",
      "Validation loss decreased (inf --> nan).  Saving model ...\n"
     ]
    },
    {
     "data": {
      "application/vnd.jupyter.widget-view+json": {
       "model_id": "9bf6c590615e485b8b9d6b269948bbf6",
       "version_major": 2,
       "version_minor": 0
      },
      "text/plain": [
       "  0%|          | 0/568 [00:00<?, ?it/s]"
      ]
     },
     "metadata": {},
     "output_type": "display_data"
    },
    {
     "name": "stdout",
     "output_type": "stream",
     "text": [
      "\titers: 568, epoch: 2 | loss: 0.0233459\n",
      "\tspeed: 0.2632s/iter; left time: 2691.2675s\n",
      "Epoch: 2 cost time: 132.9057421684265\n"
     ]
    },
    {
     "data": {
      "application/vnd.jupyter.widget-view+json": {
       "model_id": "69dbeb93d61d402da1cc6261baa4b1f9",
       "version_major": 2,
       "version_minor": 0
      },
      "text/plain": [
       "  0%|          | 0/75 [00:00<?, ?it/s]"
      ]
     },
     "metadata": {},
     "output_type": "display_data"
    },
    {
     "name": "stdout",
     "output_type": "stream",
     "text": [
      "Validation loss decreased (nan --> 0.367455).  Saving model ...\n"
     ]
    },
    {
     "data": {
      "application/vnd.jupyter.widget-view+json": {
       "model_id": "240fa51724d049158b47bfa1e6fee866",
       "version_major": 2,
       "version_minor": 0
      },
      "text/plain": [
       "  0%|          | 0/568 [00:00<?, ?it/s]"
      ]
     },
     "metadata": {},
     "output_type": "display_data"
    },
    {
     "name": "stdout",
     "output_type": "stream",
     "text": [
      "\titers: 568, epoch: 3 | loss: 0.0059364\n",
      "\tspeed: 0.2648s/iter; left time: 2556.8674s\n",
      "Epoch: 3 cost time: 133.54832553863525\n"
     ]
    },
    {
     "data": {
      "application/vnd.jupyter.widget-view+json": {
       "model_id": "164d87469b0447ca9e0b62098ff7da7e",
       "version_major": 2,
       "version_minor": 0
      },
      "text/plain": [
       "  0%|          | 0/75 [00:00<?, ?it/s]"
      ]
     },
     "metadata": {},
     "output_type": "display_data"
    },
    {
     "name": "stdout",
     "output_type": "stream",
     "text": [
      "EarlyStopping counter: 1 out of 3\n"
     ]
    },
    {
     "data": {
      "application/vnd.jupyter.widget-view+json": {
       "model_id": "1a5b646a1c774fc09f9f058028992bc4",
       "version_major": 2,
       "version_minor": 0
      },
      "text/plain": [
       "  0%|          | 0/568 [00:00<?, ?it/s]"
      ]
     },
     "metadata": {},
     "output_type": "display_data"
    },
    {
     "name": "stdout",
     "output_type": "stream",
     "text": [
      "\titers: 568, epoch: 4 | loss: 0.0207539\n",
      "\tspeed: 0.2662s/iter; left time: 2419.5994s\n",
      "Epoch: 4 cost time: 134.32880401611328\n"
     ]
    },
    {
     "data": {
      "application/vnd.jupyter.widget-view+json": {
       "model_id": "05f8d26e3e5d4aefb8b01d2bd88f8290",
       "version_major": 2,
       "version_minor": 0
      },
      "text/plain": [
       "  0%|          | 0/75 [00:00<?, ?it/s]"
      ]
     },
     "metadata": {},
     "output_type": "display_data"
    },
    {
     "name": "stdout",
     "output_type": "stream",
     "text": [
      "Validation loss decreased (0.367455 --> 0.314345).  Saving model ...\n"
     ]
    },
    {
     "data": {
      "application/vnd.jupyter.widget-view+json": {
       "model_id": "5ac751e86f4a4c20989f91e2a7f6d59a",
       "version_major": 2,
       "version_minor": 0
      },
      "text/plain": [
       "  0%|          | 0/568 [00:00<?, ?it/s]"
      ]
     },
     "metadata": {},
     "output_type": "display_data"
    },
    {
     "name": "stdout",
     "output_type": "stream",
     "text": [
      "\titers: 568, epoch: 5 | loss: 0.0221922\n",
      "\tspeed: 0.2657s/iter; left time: 2264.2745s\n",
      "Epoch: 5 cost time: 134.0601727962494\n"
     ]
    },
    {
     "data": {
      "application/vnd.jupyter.widget-view+json": {
       "model_id": "14e1eb7ec7bb475ba352e2d9cdc54d44",
       "version_major": 2,
       "version_minor": 0
      },
      "text/plain": [
       "  0%|          | 0/75 [00:00<?, ?it/s]"
      ]
     },
     "metadata": {},
     "output_type": "display_data"
    },
    {
     "name": "stdout",
     "output_type": "stream",
     "text": [
      "Validation loss decreased (0.314345 --> 0.309958).  Saving model ...\n"
     ]
    },
    {
     "data": {
      "application/vnd.jupyter.widget-view+json": {
       "model_id": "a9e3ccceec024a02882d748cf7822946",
       "version_major": 2,
       "version_minor": 0
      },
      "text/plain": [
       "  0%|          | 0/568 [00:00<?, ?it/s]"
      ]
     },
     "metadata": {},
     "output_type": "display_data"
    },
    {
     "name": "stdout",
     "output_type": "stream",
     "text": [
      "\titers: 568, epoch: 6 | loss: 0.0059597\n",
      "\tspeed: 0.2674s/iter; left time: 2126.2405s\n",
      "Epoch: 6 cost time: 134.63162517547607\n"
     ]
    },
    {
     "data": {
      "application/vnd.jupyter.widget-view+json": {
       "model_id": "27194adf1a4140f48d1b3052aae7c541",
       "version_major": 2,
       "version_minor": 0
      },
      "text/plain": [
       "  0%|          | 0/75 [00:00<?, ?it/s]"
      ]
     },
     "metadata": {},
     "output_type": "display_data"
    },
    {
     "name": "stdout",
     "output_type": "stream",
     "text": [
      "EarlyStopping counter: 1 out of 3\n"
     ]
    },
    {
     "data": {
      "application/vnd.jupyter.widget-view+json": {
       "model_id": "6635308b14334318a7b852fae9383300",
       "version_major": 2,
       "version_minor": 0
      },
      "text/plain": [
       "  0%|          | 0/568 [00:00<?, ?it/s]"
      ]
     },
     "metadata": {},
     "output_type": "display_data"
    },
    {
     "name": "stdout",
     "output_type": "stream",
     "text": [
      "\titers: 568, epoch: 7 | loss: 0.0088326\n",
      "\tspeed: 0.2680s/iter; left time: 1979.5111s\n",
      "Epoch: 7 cost time: 135.27259635925293\n"
     ]
    },
    {
     "data": {
      "application/vnd.jupyter.widget-view+json": {
       "model_id": "54976522b9c34e589b67641cb14004a4",
       "version_major": 2,
       "version_minor": 0
      },
      "text/plain": [
       "  0%|          | 0/75 [00:00<?, ?it/s]"
      ]
     },
     "metadata": {},
     "output_type": "display_data"
    },
    {
     "name": "stdout",
     "output_type": "stream",
     "text": [
      "Validation loss decreased (0.309958 --> 0.301024).  Saving model ...\n"
     ]
    },
    {
     "data": {
      "application/vnd.jupyter.widget-view+json": {
       "model_id": "d9a8236f3e4c4901befc74a159872d4e",
       "version_major": 2,
       "version_minor": 0
      },
      "text/plain": [
       "  0%|          | 0/568 [00:00<?, ?it/s]"
      ]
     },
     "metadata": {},
     "output_type": "display_data"
    },
    {
     "name": "stdout",
     "output_type": "stream",
     "text": [
      "\titers: 568, epoch: 8 | loss: 0.0815789\n",
      "\tspeed: 0.2668s/iter; left time: 1818.8195s\n",
      "Epoch: 8 cost time: 134.42492842674255\n"
     ]
    },
    {
     "data": {
      "application/vnd.jupyter.widget-view+json": {
       "model_id": "9f12c18b5fd94c6cba5c9cdd83ef1f9f",
       "version_major": 2,
       "version_minor": 0
      },
      "text/plain": [
       "  0%|          | 0/75 [00:00<?, ?it/s]"
      ]
     },
     "metadata": {},
     "output_type": "display_data"
    },
    {
     "name": "stdout",
     "output_type": "stream",
     "text": [
      "EarlyStopping counter: 1 out of 3\n"
     ]
    },
    {
     "data": {
      "application/vnd.jupyter.widget-view+json": {
       "model_id": "2cb21fa29ab741bdb7d0152bada8fa5d",
       "version_major": 2,
       "version_minor": 0
      },
      "text/plain": [
       "  0%|          | 0/568 [00:00<?, ?it/s]"
      ]
     },
     "metadata": {},
     "output_type": "display_data"
    },
    {
     "name": "stdout",
     "output_type": "stream",
     "text": [
      "\titers: 568, epoch: 9 | loss: 0.0627984\n",
      "\tspeed: 0.2662s/iter; left time: 1663.6307s\n",
      "Epoch: 9 cost time: 134.35579872131348\n"
     ]
    },
    {
     "data": {
      "application/vnd.jupyter.widget-view+json": {
       "model_id": "9d787e72c7eb495cbfe118719a9eec45",
       "version_major": 2,
       "version_minor": 0
      },
      "text/plain": [
       "  0%|          | 0/75 [00:00<?, ?it/s]"
      ]
     },
     "metadata": {},
     "output_type": "display_data"
    },
    {
     "name": "stdout",
     "output_type": "stream",
     "text": [
      "EarlyStopping counter: 2 out of 3\n"
     ]
    },
    {
     "data": {
      "application/vnd.jupyter.widget-view+json": {
       "model_id": "d1a1797954fc46bca161dcee84265d6f",
       "version_major": 2,
       "version_minor": 0
      },
      "text/plain": [
       "  0%|          | 0/568 [00:00<?, ?it/s]"
      ]
     },
     "metadata": {},
     "output_type": "display_data"
    },
    {
     "name": "stdout",
     "output_type": "stream",
     "text": [
      "\titers: 568, epoch: 10 | loss: 0.0594309\n",
      "\tspeed: 0.2675s/iter; left time: 1519.7240s\n",
      "Epoch: 10 cost time: 134.9144983291626\n"
     ]
    },
    {
     "data": {
      "application/vnd.jupyter.widget-view+json": {
       "model_id": "24225c7753064b6c9ff91b8d840bd042",
       "version_major": 2,
       "version_minor": 0
      },
      "text/plain": [
       "  0%|          | 0/75 [00:00<?, ?it/s]"
      ]
     },
     "metadata": {},
     "output_type": "display_data"
    },
    {
     "name": "stdout",
     "output_type": "stream",
     "text": [
      "Validation loss decreased (0.301024 --> 0.297096).  Saving model ...\n"
     ]
    },
    {
     "data": {
      "application/vnd.jupyter.widget-view+json": {
       "model_id": "8a68c2b801be44fcb30ff84aade047b3",
       "version_major": 2,
       "version_minor": 0
      },
      "text/plain": [
       "  0%|          | 0/568 [00:00<?, ?it/s]"
      ]
     },
     "metadata": {},
     "output_type": "display_data"
    },
    {
     "name": "stdout",
     "output_type": "stream",
     "text": [
      "\titers: 568, epoch: 11 | loss: 0.1778102\n",
      "\tspeed: 0.2681s/iter; left time: 1370.6088s\n",
      "Epoch: 11 cost time: 135.23290753364563\n"
     ]
    },
    {
     "data": {
      "application/vnd.jupyter.widget-view+json": {
       "model_id": "25e6e953147d421eb1d7f7946dbc31be",
       "version_major": 2,
       "version_minor": 0
      },
      "text/plain": [
       "  0%|          | 0/75 [00:00<?, ?it/s]"
      ]
     },
     "metadata": {},
     "output_type": "display_data"
    },
    {
     "name": "stdout",
     "output_type": "stream",
     "text": [
      "EarlyStopping counter: 1 out of 3\n"
     ]
    },
    {
     "data": {
      "application/vnd.jupyter.widget-view+json": {
       "model_id": "deceb2d8370e443399a556912f7f4b0a",
       "version_major": 2,
       "version_minor": 0
      },
      "text/plain": [
       "  0%|          | 0/568 [00:00<?, ?it/s]"
      ]
     },
     "metadata": {},
     "output_type": "display_data"
    },
    {
     "name": "stdout",
     "output_type": "stream",
     "text": [
      "\titers: 568, epoch: 12 | loss: 0.0474003\n",
      "\tspeed: 0.2694s/iter; left time: 1224.2541s\n",
      "Epoch: 12 cost time: 135.77777099609375\n"
     ]
    },
    {
     "data": {
      "application/vnd.jupyter.widget-view+json": {
       "model_id": "76216e9f0fc94a12acb7370990b47a5d",
       "version_major": 2,
       "version_minor": 0
      },
      "text/plain": [
       "  0%|          | 0/75 [00:00<?, ?it/s]"
      ]
     },
     "metadata": {},
     "output_type": "display_data"
    },
    {
     "name": "stdout",
     "output_type": "stream",
     "text": [
      "EarlyStopping counter: 2 out of 3\n"
     ]
    },
    {
     "data": {
      "application/vnd.jupyter.widget-view+json": {
       "model_id": "f14248ca1b604878b6da995bba2ddb7d",
       "version_major": 2,
       "version_minor": 0
      },
      "text/plain": [
       "  0%|          | 0/568 [00:00<?, ?it/s]"
      ]
     },
     "metadata": {},
     "output_type": "display_data"
    },
    {
     "name": "stdout",
     "output_type": "stream",
     "text": [
      "\titers: 568, epoch: 13 | loss: 0.0392430\n",
      "\tspeed: 0.2667s/iter; left time: 1060.5420s\n",
      "Epoch: 13 cost time: 134.3656129837036\n"
     ]
    },
    {
     "data": {
      "application/vnd.jupyter.widget-view+json": {
       "model_id": "d8d40ba8fdc04fafbe273b9e2acc89c8",
       "version_major": 2,
       "version_minor": 0
      },
      "text/plain": [
       "  0%|          | 0/75 [00:00<?, ?it/s]"
      ]
     },
     "metadata": {},
     "output_type": "display_data"
    },
    {
     "name": "stdout",
     "output_type": "stream",
     "text": [
      "Validation loss decreased (0.297096 --> 0.289328).  Saving model ...\n"
     ]
    },
    {
     "data": {
      "application/vnd.jupyter.widget-view+json": {
       "model_id": "2c7a0fa00c6143b18d8b82d1e04b471b",
       "version_major": 2,
       "version_minor": 0
      },
      "text/plain": [
       "  0%|          | 0/568 [00:00<?, ?it/s]"
      ]
     },
     "metadata": {},
     "output_type": "display_data"
    },
    {
     "name": "stdout",
     "output_type": "stream",
     "text": [
      "\titers: 568, epoch: 14 | loss: 0.0097138\n",
      "\tspeed: 0.2680s/iter; left time: 913.6491s\n",
      "Epoch: 14 cost time: 135.26508808135986\n"
     ]
    },
    {
     "data": {
      "application/vnd.jupyter.widget-view+json": {
       "model_id": "4e6292d1813a49ee95d0aed20ceca58b",
       "version_major": 2,
       "version_minor": 0
      },
      "text/plain": [
       "  0%|          | 0/75 [00:00<?, ?it/s]"
      ]
     },
     "metadata": {},
     "output_type": "display_data"
    },
    {
     "name": "stdout",
     "output_type": "stream",
     "text": [
      "Validation loss decreased (0.289328 --> 0.281802).  Saving model ...\n"
     ]
    },
    {
     "data": {
      "application/vnd.jupyter.widget-view+json": {
       "model_id": "d10d2e1febdd42b2964ae66fe004a619",
       "version_major": 2,
       "version_minor": 0
      },
      "text/plain": [
       "  0%|          | 0/568 [00:00<?, ?it/s]"
      ]
     },
     "metadata": {},
     "output_type": "display_data"
    },
    {
     "name": "stdout",
     "output_type": "stream",
     "text": [
      "\titers: 568, epoch: 15 | loss: 0.1081784\n",
      "\tspeed: 0.2658s/iter; left time: 755.1035s\n",
      "Epoch: 15 cost time: 133.59204244613647\n"
     ]
    },
    {
     "data": {
      "application/vnd.jupyter.widget-view+json": {
       "model_id": "4eafe7a805e34e289c0353956c764c51",
       "version_major": 2,
       "version_minor": 0
      },
      "text/plain": [
       "  0%|          | 0/75 [00:00<?, ?it/s]"
      ]
     },
     "metadata": {},
     "output_type": "display_data"
    },
    {
     "name": "stdout",
     "output_type": "stream",
     "text": [
      "EarlyStopping counter: 1 out of 3\n"
     ]
    },
    {
     "data": {
      "application/vnd.jupyter.widget-view+json": {
       "model_id": "c16489cdab22476eaf091e140971170b",
       "version_major": 2,
       "version_minor": 0
      },
      "text/plain": [
       "  0%|          | 0/568 [00:00<?, ?it/s]"
      ]
     },
     "metadata": {},
     "output_type": "display_data"
    },
    {
     "name": "stdout",
     "output_type": "stream",
     "text": [
      "\titers: 568, epoch: 16 | loss: 0.0491820\n",
      "\tspeed: 0.2691s/iter; left time: 611.7757s\n",
      "Epoch: 16 cost time: 136.13050436973572\n"
     ]
    },
    {
     "data": {
      "application/vnd.jupyter.widget-view+json": {
       "model_id": "b1c9659e6da549299b16a91625670ff6",
       "version_major": 2,
       "version_minor": 0
      },
      "text/plain": [
       "  0%|          | 0/75 [00:00<?, ?it/s]"
      ]
     },
     "metadata": {},
     "output_type": "display_data"
    },
    {
     "name": "stdout",
     "output_type": "stream",
     "text": [
      "EarlyStopping counter: 2 out of 3\n"
     ]
    },
    {
     "data": {
      "application/vnd.jupyter.widget-view+json": {
       "model_id": "b9ecf8f2d3b242848d95cc2d155020f9",
       "version_major": 2,
       "version_minor": 0
      },
      "text/plain": [
       "  0%|          | 0/568 [00:00<?, ?it/s]"
      ]
     },
     "metadata": {},
     "output_type": "display_data"
    },
    {
     "name": "stdout",
     "output_type": "stream",
     "text": [
      "\titers: 568, epoch: 17 | loss: 0.0375695\n",
      "\tspeed: 0.2675s/iter; left time: 456.1143s\n",
      "Epoch: 17 cost time: 135.01179480552673\n"
     ]
    },
    {
     "data": {
      "application/vnd.jupyter.widget-view+json": {
       "model_id": "530880ef519b42b2b7e8d3ef31f80d51",
       "version_major": 2,
       "version_minor": 0
      },
      "text/plain": [
       "  0%|          | 0/75 [00:00<?, ?it/s]"
      ]
     },
     "metadata": {},
     "output_type": "display_data"
    },
    {
     "name": "stdout",
     "output_type": "stream",
     "text": [
      "Validation loss decreased (0.281802 --> 0.276518).  Saving model ...\n"
     ]
    },
    {
     "data": {
      "application/vnd.jupyter.widget-view+json": {
       "model_id": "988b4f3f12dc4c29851b3f5c30de6885",
       "version_major": 2,
       "version_minor": 0
      },
      "text/plain": [
       "  0%|          | 0/568 [00:00<?, ?it/s]"
      ]
     },
     "metadata": {},
     "output_type": "display_data"
    },
    {
     "name": "stdout",
     "output_type": "stream",
     "text": [
      "\titers: 568, epoch: 18 | loss: 0.0418462\n",
      "\tspeed: 0.2678s/iter; left time: 304.4607s\n",
      "Epoch: 18 cost time: 135.23491311073303\n"
     ]
    },
    {
     "data": {
      "application/vnd.jupyter.widget-view+json": {
       "model_id": "a794eb47fd4441719bf9d6575f2b8fc2",
       "version_major": 2,
       "version_minor": 0
      },
      "text/plain": [
       "  0%|          | 0/75 [00:00<?, ?it/s]"
      ]
     },
     "metadata": {},
     "output_type": "display_data"
    },
    {
     "name": "stdout",
     "output_type": "stream",
     "text": [
      "EarlyStopping counter: 1 out of 3\n"
     ]
    },
    {
     "data": {
      "application/vnd.jupyter.widget-view+json": {
       "model_id": "104571c568994077a2e040b8b802355b",
       "version_major": 2,
       "version_minor": 0
      },
      "text/plain": [
       "  0%|          | 0/568 [00:00<?, ?it/s]"
      ]
     },
     "metadata": {},
     "output_type": "display_data"
    }
   ],
   "source": [
    "#test&train\n",
    "torch.cuda.empty_cache()\n",
    "\n",
    "Exp = Exp_NRU_RBN\n",
    "def runtrain(args):\n",
    "        mape_list=[]\n",
    "        mae_list=[]\n",
    "        rmse_list=[]\n",
    "        dtw_list=[]\n",
    "        res_list=[]\n",
    "        shape_list=[]\n",
    "        corr_list=[]\n",
    "        crps_list=[]\n",
    "        mse_list=[]\n",
    "        crps_varlist=[]\n",
    "        print(args.label_len)\n",
    "        print(args.pred_len)\n",
    "        index =args.model +\"_\"+str(args.label_len)+\"_\"+str(args.pred_len)\n",
    "        resultsMAE,resultsCRPS,resultsMSE=[],[],[]\n",
    "        mape_list,mae_list,rmse_list=[],[],[]\n",
    "        dtw_list,res_list,shape_list=[],[],[]\n",
    "        corr_list,crps_list,mse_list,crps_varlist=[],[],[],[]\n",
    "        for ii in range(args.itr):\n",
    "               \n",
    "                # setting record of experiments\n",
    "                setting = '{}_d{}_ft{}_sl{}_ll{}_pl{}_dm{}_df{}_eb{}_{}_lossreg_{}_n_times_{}_ii_{}'.format(\n",
    "                        index, args.data, args.features,args.seq_len, args.label_len, args.pred_len,\n",
    "                        args.d_model, args.d_ff,\n",
    "                        args.embed, 0,str(args.lossregularizer),args.n_times,args.reg)\n",
    "                \n",
    "                exp = Exp(args) # set experiments\n",
    "                print('>>>>>>>start training later {}>>>>>>>>>>>>>>>>>>>>>>>>>>'.format(setting))\n",
    "                _,tepochloss,tdataloss,tregloss,tvalepochloss,tvaldataloss,tvalregloss=exp.train(setting)\n",
    "                torch.cuda.empty_cache()\n",
    "                resultout,crpsret,sqtrue,sqpred,sigmaouts=exp.test(setting,True)\n",
    "                \n",
    "                mae,mse,rmse,mspe,shape =resultout\n",
    "\n",
    "                print(setting)\n",
    "                mse_list.append(mse)\n",
    "                mse_np=np.array(mse_list)\n",
    "                mae_list.append(mae)\n",
    "                mae_np=np.array(mae_list)\n",
    "                crps_list.append(np.mean(crpsret))\n",
    "                #crps_varlist.append(np.var(crpsret))\n",
    "                crps_np=np.array(crps_list)\n",
    "                #crps_varlist_np=np.array(crps_varlist)\n",
    "        \n",
    "                print(\"predlen:\"+str(args.pred_len)+\",CRPS_L:\"+str(len(crps_np))+\",AVE:\"+str(np.round(np.mean(crps_np),3))+\"±\"+str(np.round(np.std(crps_np),4)))\n",
    "                print(\"predlen:\"+str(args.pred_len)+\",MSE_L:\"+str(len(mse_np))+\",AVE:\"+str(np.round(np.mean(mse_np),3))+\"±\"+str(np.round(np.std(mse_np),4)))\n",
    "                print(\"predlen:\"+str(args.pred_len)+\",MAE_L:\"+str(len(mae_np))+\",AVE:\"+str(np.round(np.mean(mae_np),3))+\"±\"+str(np.round(np.std(mae_np),4)))\n",
    "                resultsCRPS.append(str(ii)+\"_\"+\"predlen:\"+str(args.pred_len)+\",CRPS_L:\"+str(len(crps_np))+\",AVE:\"+str(np.round(np.mean(crps_np),3))+\"±\"+str(np.round(np.std(crps_np),4)))\n",
    "                resultsMSE.append(str(ii)+\"_\"+\"predlen:\"+str(args.pred_len)+\",MSE_L:\"+str(len(mse_np))+\",AVE:\"+str(np.round(np.mean(mse_np),3))+\"±\"+str(np.round(np.std(mse_np),4)))\n",
    "                resultsMAE.append(str(ii)+\"_\"+\"predlen:\"+str(args.pred_len)+\",MAE_L:\"+str(len(mae_np))+\",AVE:\"+str(np.round(np.mean(mae_np),3))+\"±\"+str(np.round(np.std(mae_np),4)))\n",
    "                f= open(os.path.abspath('')+\"/results/\"+str(args.data)+\"/\"+str(args.pred_len)+\"_d_ff\"+str(args.d_ff)+\"_ntimes\"+str(args.n_times)+\"_\"+str(args.data)+\".txt\",\"w+\")\n",
    "                f.write(str(setting)+\"\\n\"+str(resultsCRPS) +\"\\n\"+str(resultsMSE)+\"\\n\"+str(resultsMAE))\n",
    "                f.close()\n",
    "                sqtrue=0\n",
    "                sqpred=0\n",
    "        torch.cuda.empty_cache()\n",
    "        return sqtrue,sqpred\n",
    "\n",
    "for nn in range(3,4):\n",
    "        valueindex=['ETTh1','exchange','ETTm2','electrans']\n",
    "        args.data =valueindex[nn]\n",
    "        args.checkpoints='model_parameters/'+valueindex[nn]\n",
    "        \n",
    "        data_parser = {\n",
    "        'exchange':{'data':'exchange_all.csv','T':'OT','M':[8,8,8],'S':[1,1,1],'MS':[8,8,1],'freqin':'d'},\n",
    "        'ETTh1':{'data':'ETTh1.csv','T':'OT','M':[7,7,7],'S':[1,1,1],'MS':[7,7,1],'freqin':'h'},\n",
    "        'ETTh2':{'data':'ETTh2.csv','T':'OT','M':[7,7,7],'S':[1,1,1],'MS':[7,7,1],'freqin':'h'},\n",
    "        'ETTm1':{'data':'ETTm1.csv','T':'OT','M':[7,7,7],'S':[1,1,1],'MS':[7,7,1],'freqin':'h'},\n",
    "        'ETTm2':{'data':'ETTm2.csv','T':'OT','M':[7,7,7],'S':[1,1,1],'MS':[7,7,1],'freqin':'t'},\n",
    "        'weather':{'data':'weather.csv','T':'OT','M':[12,12,12],'S':[1,1,1],'MS':[12,12,1],'freqin':'h'},\n",
    "        'electrans':{'data':'electrans.csv','T':'OT','M':[32,32,32],'S':[1,1,1],'MS':[321,321,1],'freqin':'h'},\n",
    "        }\n",
    "        if args.data in data_parser.keys():\n",
    "                data_info = data_parser[args.data]\n",
    "                args.data_path = data_info['data']\n",
    "                args.target = data_info['T']\n",
    "                args.enc_in, args.dec_in, args.c_out = data_info[args.features]\n",
    "                args.freq=data_info['freqin']\n",
    "        \n",
    "        args.detail_freq = args.freq\n",
    "        args.freq = args.freq[-1:]\n",
    "        print('Args in experiment:')\n",
    "        print(args)\n",
    "        for i in range(0,4,1):\n",
    "                torch.cuda.empty_cache()\n",
    "                args.d_ff=256\n",
    "                args.d_model=256\n",
    "                args.reg=0.1\n",
    "                items= [[168,24],[168,96],[336,168],[720,336]] #for ETTh1\n",
    "                if i==2:\n",
    "                        args.batch_size=16\n",
    "                elif i>2:\n",
    "                        args.batch_size=16\n",
    "                else:\n",
    "                        args.batch_size=32    \n",
    "                args.n_times=100\n",
    "                args.label_len =items[i][0]\n",
    "                args.seq_len=args.label_len\n",
    "                args.pred_len =items[i][1]\n",
    "                print(args.label_len)\n",
    "                print(args.pred_len)\n",
    "                sqtrue,sqpred=runtrain(args)\n"
   ]
  }
 ],
 "metadata": {
  "colab": {
   "authorship_tag": "ABX9TyNYamTAUmYDsZgII9uXX8CT",
   "collapsed_sections": [],
   "machine_shape": "hm",
   "mount_file_id": "1bcfz1OsVbD2yCIk1zcleV5paW0iaFtTg",
   "name": "",
   "version": ""
  },
  "gpuClass": "premium",
  "kernelspec": {
   "display_name": "base",
   "language": "python",
   "name": "python3"
  },
  "language_info": {
   "codemirror_mode": {
    "name": "ipython",
    "version": 3
   },
   "file_extension": ".py",
   "mimetype": "text/x-python",
   "name": "python",
   "nbconvert_exporter": "python",
   "pygments_lexer": "ipython3",
   "version": "3.9.13"
  },
  "vscode": {
   "interpreter": {
    "hash": "60461829a35a4f24414f6b9a81cb167855ac5d995cbf4b4b96212d9b44c21eb1"
   }
  }
 },
 "nbformat": 4,
 "nbformat_minor": 4
}
